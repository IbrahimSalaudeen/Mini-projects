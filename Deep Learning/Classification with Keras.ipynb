{
 "cells": [
  {
   "cell_type": "markdown",
   "id": "b1646cc3-c23c-426d-a5fb-db1f3fcb9ae2",
   "metadata": {},
   "source": [
    "## Classification with Keras"
   ]
  },
  {
   "cell_type": "code",
   "execution_count": null,
   "id": "afe3420c-e285-4178-8fb7-33a3fa1fb74c",
   "metadata": {},
   "outputs": [],
   "source": [
    "Using The MINST database"
   ]
  },
  {
   "cell_type": "markdown",
   "id": "ac9adf9c-c81d-4859-8984-77589bda2ecc",
   "metadata": {},
   "source": [
    "## Classification Models with keras\n"
   ]
  },
  {
   "cell_type": "code",
   "execution_count": 6,
   "id": "63fb2fca-a83a-4327-a1d4-a0a0aefe6dae",
   "metadata": {},
   "outputs": [
    {
     "name": "stdout",
     "output_type": "stream",
     "text": [
      "Collecting matplotlib\n",
      "  Downloading matplotlib-3.5.1-cp38-cp38-win_amd64.whl (7.2 MB)\n",
      "Collecting cycler>=0.10\n",
      "  Downloading cycler-0.11.0-py3-none-any.whl (6.4 kB)\n",
      "Requirement already satisfied: packaging>=20.0 in c:\\users\\salaudeen ibrahim\\anaconda3\\envs\\tensorflow_env\\lib\\site-packages (from matplotlib) (21.3)\n",
      "Collecting fonttools>=4.22.0\n",
      "  Downloading fonttools-4.29.1-py3-none-any.whl (895 kB)\n",
      "Requirement already satisfied: numpy>=1.17 in c:\\users\\salaudeen ibrahim\\anaconda3\\envs\\tensorflow_env\\lib\\site-packages (from matplotlib) (1.21.5)\n",
      "Requirement already satisfied: pyparsing>=2.2.1 in c:\\users\\salaudeen ibrahim\\anaconda3\\envs\\tensorflow_env\\lib\\site-packages (from matplotlib) (3.0.4)\n",
      "Collecting pillow>=6.2.0\n",
      "  Downloading Pillow-9.0.1-cp38-cp38-win_amd64.whl (3.2 MB)\n",
      "Collecting kiwisolver>=1.0.1\n",
      "  Downloading kiwisolver-1.3.2-cp38-cp38-win_amd64.whl (52 kB)\n",
      "Requirement already satisfied: python-dateutil>=2.7 in c:\\users\\salaudeen ibrahim\\anaconda3\\envs\\tensorflow_env\\lib\\site-packages (from matplotlib) (2.8.2)\n",
      "Requirement already satisfied: six>=1.5 in c:\\users\\salaudeen ibrahim\\anaconda3\\envs\\tensorflow_env\\lib\\site-packages (from python-dateutil>=2.7->matplotlib) (1.16.0)\n",
      "Installing collected packages: pillow, kiwisolver, fonttools, cycler, matplotlib\n",
      "Successfully installed cycler-0.11.0 fonttools-4.29.1 kiwisolver-1.3.2 matplotlib-3.5.1 pillow-9.0.1\n"
     ]
    }
   ],
   "source": [
    "!pip install matplotlib"
   ]
  },
  {
   "cell_type": "code",
   "execution_count": 4,
   "id": "75407cd2-b644-413f-ab95-531ded83660c",
   "metadata": {},
   "outputs": [],
   "source": [
    "import keras\n",
    "\n",
    "from keras.models import Sequential\n",
    "from keras.layers import Dense\n",
    "from tensorflow.keras.utils import to_categorical\n"
   ]
  },
  {
   "cell_type": "code",
   "execution_count": 5,
   "id": "44963ea4-0d0b-4018-8479-8ad878a16d51",
   "metadata": {},
   "outputs": [],
   "source": [
    "import matplotlib.pyplot as plt"
   ]
  },
  {
   "cell_type": "code",
   "execution_count": 6,
   "id": "71d16520-cb3f-442e-af4e-e9c2291588dd",
   "metadata": {},
   "outputs": [],
   "source": [
    "# import the data\n",
    "from keras.datasets import mnist\n",
    "\n",
    "# read the data\n",
    "(X_train, y_train), (X_test,y_test) = mnist.load_data()"
   ]
  },
  {
   "cell_type": "code",
   "execution_count": 7,
   "id": "e1527624-e9f8-4c41-babc-eca201434050",
   "metadata": {},
   "outputs": [
    {
     "data": {
      "text/plain": [
       "(60000, 28, 28)"
      ]
     },
     "execution_count": 7,
     "metadata": {},
     "output_type": "execute_result"
    }
   ],
   "source": [
    "X_train.shape"
   ]
  },
  {
   "cell_type": "code",
   "execution_count": 8,
   "id": "19473a18-1a7a-4718-a507-2446963f73bd",
   "metadata": {},
   "outputs": [
    {
     "data": {
      "text/plain": [
       "<matplotlib.image.AxesImage at 0x1e9fa2cfd30>"
      ]
     },
     "execution_count": 8,
     "metadata": {},
     "output_type": "execute_result"
    },
    {
     "data": {
      "image/png": "[encoded data removed]",
      "text/plain": [
       "<Figure size 432x288 with 1 Axes>"
      ]
     },
     "metadata": {
      "needs_background": "light"
     },
     "output_type": "display_data"
    }
   ],
   "source": [
    "plt.imshow(X_train[3])"
   ]
  },
  {
   "cell_type": "code",
   "execution_count": 9,
   "id": "b640a4a0-797f-4d22-b63d-0a2155f6d807",
   "metadata": {},
   "outputs": [],
   "source": [
    "# flatten the images into one-dimensional vector\n",
    "\n",
    "num_pixels = X_train.shape[1]*X_train.shape[2] \n",
    "num_pixels\n",
    "\n",
    "X_train = X_train.reshape(X_train.shape[0], num_pixels).astype('float32') #flatten training images\n",
    "X_test =X_test.reshape(X_test.shape[0], num_pixels).astype('float32') #flatten test images"
   ]
  },
  {
   "cell_type": "code",
   "execution_count": 10,
   "id": "595b63d9-b9d1-4446-a92e-f00329f63236",
   "metadata": {},
   "outputs": [],
   "source": [
    "#normalize inputs from 0-255 to 0-1\n",
    "X_train = X_train/255\n",
    "X_test = X_test/255\n"
   ]
  },
  {
   "cell_type": "code",
   "execution_count": 11,
   "id": "80b24536-85d9-4707-b412-2d0777482779",
   "metadata": {},
   "outputs": [
    {
     "name": "stdout",
     "output_type": "stream",
     "text": [
      "10\n"
     ]
    }
   ],
   "source": [
    "# one hot encode outputs\n",
    "\n",
    "y_train = to_categorical(y_train)\n",
    "y_test = to_categorical(y_test)\n",
    "\n",
    "num_classes = y_test.shape[1]\n",
    "print(num_classes)"
   ]
  },
  {
   "cell_type": "markdown",
   "id": "8d670b03-4651-4bbe-98de-0438b0b6281c",
   "metadata": {},
   "source": [
    "### Build a Neural Network\n"
   ]
  },
  {
   "cell_type": "code",
   "execution_count": 12,
   "id": "70f8930c-cd5b-469b-9939-b613fabdb3d3",
   "metadata": {},
   "outputs": [],
   "source": [
    "# define classification Model\n",
    "def classification_model():\n",
    "    # create model\n",
    "    model = Sequential()\n",
    "    model.add(Dense(num_pixels,activation = 'relu', input_shape=(num_pixels,)))\n",
    "    model.add(Dense(100, activation= 'relu'))\n",
    "    model.add(Dense(num_classes, activation = 'softmax'))\n",
    "    \n",
    "    #compile model\n",
    "    model.compile(optimizer = 'adam', loss= 'categorical_crossentropy',metrics=['accuracy'])\n",
    "    return model"
   ]
  },
  {
   "cell_type": "markdown",
   "id": "650d3c28-ab82-4e56-8f4b-db46c3f8c6a9",
   "metadata": {},
   "source": [
    "### Train and Test the Network"
   ]
  },
  {
   "cell_type": "code",
   "execution_count": null,
   "id": "56f9fd3c-dcf8-4600-9016-456931d6ffa6",
   "metadata": {},
   "outputs": [],
   "source": [
    "# build the model\n",
    "model = classification_model()\n",
    "\n",
    "#fit the model\n",
    "model.fit(X_train,y_train, validation_data=(X_test, y_test), epochs=10, verbose=2)\n",
    "\n",
    "#evaluate the model\n",
    "scores = model.evaluate(X_test,y_test, verbose=0)"
   ]
  },
  {
   "cell_type": "code",
   "execution_count": null,
   "id": "968ef017-c258-49c0-a451-c5e7ea408a47",
   "metadata": {},
   "outputs": [],
   "source": [
    "# print out the auccuracy and the corresponding error.\n",
    "print('Accuracy: {}% \\n Error: {}'. format(scores[1], 1 - scores[1]))"
   ]
  },
  {
   "cell_type": "code",
   "execution_count": null,
   "id": "522ad75d-c1f3-4b7b-aa47-3fb658cb666e",
   "metadata": {},
   "outputs": [],
   "source": [
    "# saving model as h5 files\n",
    "model.save ('classification_model.h5')\n"
   ]
  },
  {
   "cell_type": "code",
   "execution_count": null,
   "id": "3cdba20d-6742-469e-91a9-283d7a8685d7",
   "metadata": {},
   "outputs": [],
   "source": [
    "# loading the model \n",
    "from keras.model import load_model\n",
    "\n",
    "pretrained_model = load_model('classification_model.h5')"
   ]
  },
  {
   "cell_type": "code",
   "execution_count": null,
   "id": "9bd4e3b7-9359-486d-a6a7-126db76707e2",
   "metadata": {},
   "outputs": [],
   "source": []
  }
 ],
 "metadata": {
  "kernelspec": {
   "display_name": "Python 3 (ipykernel)",
   "language": "python",
   "name": "python3"
  },
  "language_info": {
   "codemirror_mode": {
    "name": "ipython",
    "version": 3
   },
   "file_extension": ".py",
   "mimetype": "text/x-python",
   "name": "python",
   "nbconvert_exporter": "python",
   "pygments_lexer": "ipython3",
   "version": "3.8.12"
  }
 },
 "nbformat": 4,
 "nbformat_minor": 5
}
