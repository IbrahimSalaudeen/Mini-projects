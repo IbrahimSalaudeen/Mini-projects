{
 "cells": [
  {
   "cell_type": "markdown",
   "id": "ded305b3",
   "metadata": {},
   "source": [
    "# Setting Up Database"
   ]
  },
  {
   "cell_type": "code",
   "execution_count": 1,
   "id": "c5d3b659",
   "metadata": {},
   "outputs": [],
   "source": [
    "#import libraries \n",
    "import mysql.connector as connector\n"
   ]
  },
  {
   "cell_type": "code",
   "execution_count": 2,
   "id": "5528e74b",
   "metadata": {},
   "outputs": [],
   "source": [
    "#import the pooling and error libraries\n",
    "from mysql.connector.pooling import MySQLConnectionPool\n",
    "from mysql.connector import Error"
   ]
  },
  {
   "cell_type": "code",
   "execution_count": 3,
   "id": "d63f12b0",
   "metadata": {},
   "outputs": [],
   "source": [
    "connection = connector.connect(user='root', password='********')\n",
    "cursor = connection.cursor()"
   ]
  },
  {
   "cell_type": "markdown",
   "id": "96553a0b",
   "metadata": {},
   "source": [
    "### TASK 1: Establish a connection"
   ]
  },
  {
   "cell_type": "code",
   "execution_count": 7,
   "id": "a97152ec",
   "metadata": {},
   "outputs": [],
   "source": [
    "# Creating a Database\n",
    "try:\n",
    "    cursor.execute(\"CREATE DATABASE little_lemon_db\")\n",
    "except:\n",
    "    cursor.execute(\"DROP DATABASE little_lemon_db\")\n",
    "    cursor.execute(\"CREATE DATABASE little_lemon_db\")\n",
    "\n",
    "cursor.execute(\"USE little_lemon_db\")"
   ]
  },
  {
   "cell_type": "code",
   "execution_count": 8,
   "id": "0eeab871",
   "metadata": {},
   "outputs": [
    {
     "name": "stdout",
     "output_type": "stream",
     "text": [
      "Creating Menu item Table...\n",
      "Inserting Data into Menu item Table...\n",
      "The changes have been commited to the database\n"
     ]
    }
   ],
   "source": [
    "#MenuItems table\n",
    "print('Creating Menu item Table...')\n",
    "create_menuitem_table = \"\"\"CREATE TABLE MenuItems (\n",
    "ItemID INT AUTO_INCREMENT,\n",
    "Name VARCHAR(200),\n",
    "Type VARCHAR(100),\n",
    "Price INT,\n",
    "PRIMARY KEY (ItemID)\n",
    ");\"\"\"\n",
    "\n",
    "\n",
    "print('Inserting Data into Menu item Table...')\n",
    "#*******************************************************#\n",
    "# Insert query to populate \"MenuItems\" table:\n",
    "#*******************************************************#\n",
    "insert_menuitems=\"\"\"\n",
    "INSERT INTO MenuItems (ItemID, Name, Type, Price)\n",
    "VALUES\n",
    "(1, 'Olives','Starters',5),\n",
    "(2, 'Flatbread','Starters', 5),\n",
    "(3, 'Minestrone', 'Starters', 8),\n",
    "(4, 'Tomato bread','Starters', 8),\n",
    "(5, 'Falafel', 'Starters', 7),\n",
    "(6, 'Hummus', 'Starters', 5),\n",
    "(7, 'Greek salad', 'Main Courses', 15),\n",
    "(8, 'Bean soup', 'Main Courses', 12),\n",
    "(9, 'Pizza', 'Main Courses', 15),\n",
    "(10, 'Greek yoghurt','Desserts', 7),\n",
    "(11, 'Ice cream', 'Desserts', 6),\n",
    "(12, 'Cheesecake', 'Desserts', 4),\n",
    "(13, 'Athens White wine', 'Drinks', 25),\n",
    "(14, 'Corfu Red Wine', 'Drinks', 30),\n",
    "(15, 'Turkish Coffee', 'Drinks', 10),\n",
    "(16, 'Turkish Coffee', 'Drinks', 10),\n",
    "(17, 'Kabasa', 'Main Courses', 17);\"\"\"\n",
    "\n",
    "\n",
    "# Create Menu table\n",
    "cursor.execute(create_menuitem_table)\n",
    "# Populate Menu table\n",
    "cursor.execute(insert_menuitems)\n",
    "\n",
    "#commiting changes \n",
    "print('The changes have been commited to the database')\n",
    "connection.commit()"
   ]
  },
  {
   "cell_type": "code",
   "execution_count": 9,
   "id": "05de6cf9",
   "metadata": {},
   "outputs": [
    {
     "name": "stdout",
     "output_type": "stream",
     "text": [
      "Creating menu table...\n",
      "Inserting Data into Menu table...\n",
      "The changes have been commited to the database\n"
     ]
    }
   ],
   "source": [
    "#Menutable\n",
    "print('Creating menu table...')\n",
    "create_menu_table = \"\"\"CREATE TABLE Menus (\n",
    "MenuID INT,\n",
    "ItemID INT,\n",
    "Cuisine VARCHAR(100),\n",
    "PRIMARY KEY (MenuID,ItemID)\n",
    ");\"\"\"\n",
    "\n",
    "print('Inserting Data into Menu table...')\n",
    "#*******************************************************#\n",
    "# Insert query to populate \"Menu\" table:\n",
    "#*******************************************************#\n",
    "insert_menu=\"\"\"\n",
    "INSERT INTO Menus (MenuID,ItemID,Cuisine)\n",
    "VALUES\n",
    "(1, 1, 'Greek'),\n",
    "(1, 7, 'Greek'),\n",
    "(1, 10, 'Greek'),\n",
    "(1, 13, 'Greek'),\n",
    "(2, 3, 'Italian'),\n",
    "(2, 9, 'Italian'),\n",
    "(2, 12, 'Italian'),\n",
    "(2, 15, 'Italian'),\n",
    "(3, 5, 'Turkish'),\n",
    "(3, 17, 'Turkish'),\n",
    "(3, 11, 'Turkish'),\n",
    "(3, 16, 'Turkish');\"\"\"\n",
    "\n",
    "\n",
    "# Create Menu table\n",
    "cursor.execute(create_menu_table)\n",
    "# Populate Menu table\n",
    "cursor.execute(insert_menu)\n",
    "\n",
    "#commiting changes \n",
    "print('The changes have been commited to the database')\n",
    "connection.commit()\n"
   ]
  },
  {
   "cell_type": "code",
   "execution_count": 16,
   "id": "8e7b20ad",
   "metadata": {},
   "outputs": [
    {
     "name": "stdout",
     "output_type": "stream",
     "text": [
      "Creating Bookings table...\n",
      "Insert data into bookings...\n",
      "Commiting changes into the database...\n"
     ]
    }
   ],
   "source": [
    "# Booking Table\n",
    "print('Creating Bookings table...')\n",
    "create_booking_table = \"\"\"CREATE TABLE Bookings (\n",
    "BookingID INT AUTO_INCREMENT,\n",
    "TableNo INT,\n",
    "GuestFirstName VARCHAR(100) NOT NULL,\n",
    "GuestLastName VARCHAR(100) NOT NULL,\n",
    "BookingSlot TIME NOT NULL,\n",
    "EmployeeID INT,\n",
    "PRIMARY KEY (BookingID)\n",
    ");\"\"\"\n",
    "\n",
    "\n",
    "#*******************************************************#\n",
    "# Insert query to populate \"Bookings\" table:\n",
    "#*******************************************************#\n",
    "insert_bookings=\"\"\"\n",
    "INSERT INTO Bookings (BookingID, TableNo, GuestFirstName, \n",
    "GuestLastName, BookingSlot, EmployeeID)\n",
    "VALUES\n",
    "(1, 12, 'Anna','Iversen','19:00:00',1),\n",
    "(2, 12, 'Joakim', 'Iversen', '19:00:00', 1),\n",
    "(3, 19, 'Vanessa', 'McCarthy', '15:00:00', 3),\n",
    "(4, 15, 'Marcos', 'Romero', '17:30:00', 4),\n",
    "(5, 5, 'Hiroki', 'Yamane', '18:30:00', 2),\n",
    "(6, 8, 'Diana', 'Pinto', '20:00:00', 5);\"\"\"\n",
    "\n",
    "# Create Bookings table\n",
    "cursor.execute(create_booking_table)\n",
    "print('Insert data into bookings...')\n",
    "# Populate Bookings table\n",
    "cursor.execute(insert_bookings)\n",
    "\n",
    "print('Commiting changes into the database...')\n",
    "connection.commit()\n"
   ]
  },
  {
   "cell_type": "code",
   "execution_count": 10,
   "id": "8f01fdce",
   "metadata": {},
   "outputs": [
    {
     "name": "stdout",
     "output_type": "stream",
     "text": [
      "Creating orders table...\n",
      "Inserting data into orders table...\n",
      "Commiting changes into the database...\n"
     ]
    }
   ],
   "source": [
    "create_orders_table = \"\"\"CREATE TABLE Orders (\n",
    "OrderID INT,\n",
    "TableNo INT,\n",
    "MenuID INT,\n",
    "BookingID INT,\n",
    "BillAmount INT,\n",
    "Quantity INT,\n",
    "PRIMARY KEY (OrderID,TableNo)\n",
    ");\"\"\"\n",
    "\n",
    "\n",
    "#*******************************************************#\n",
    "# Insert query to populate \"Orders\" table:\n",
    "#*******************************************************#\n",
    "insert_orders=\"\"\"\n",
    "INSERT INTO Orders (OrderID, TableNo, MenuID, BookingID, Quantity, BillAmount)\n",
    "VALUES\n",
    "(1, 12, 1, 1, 2, 86),\n",
    "(2, 19, 2, 2, 1, 37),\n",
    "(3, 15, 2, 3, 1, 37),\n",
    "(4, 5, 3, 4, 1, 40),\n",
    "(5, 8, 1, 5, 1, 43);\"\"\"\n",
    "\n",
    "print('Creating orders table...')\n",
    "\n",
    "# Create Orders table\n",
    "cursor.execute(create_orders_table)\n",
    "\n",
    "print('Inserting data into orders table...')\n",
    "# Populate Orders table\n",
    "cursor.execute(insert_orders)\n",
    "\n",
    "print('Commiting changes into the database...')\n",
    "connection.commit()"
   ]
  },
  {
   "cell_type": "code",
   "execution_count": 11,
   "id": "cf73c232",
   "metadata": {},
   "outputs": [
    {
     "name": "stdout",
     "output_type": "stream",
     "text": [
      "Creating employees table...\n",
      "Inserting Data into employees table...\n",
      "Commiting changes into the database...\n"
     ]
    }
   ],
   "source": [
    "create_employees_table = \"\"\"CREATE TABLE Employees (\n",
    "EmployeeID INT AUTO_INCREMENT PRIMARY KEY,\n",
    "Name VARCHAR(100),\n",
    "Role VARCHAR(100),\n",
    "Address VARCHAR(100),\n",
    "Contact_Number INT,\n",
    "Email VARCHAR(100),\n",
    "Annual_Salary VARCHAR(100)\n",
    ");\"\"\"\n",
    "\n",
    "\n",
    "#*******************************************************#\n",
    "# Insert query to populate \"Employees\" table:\n",
    "#*******************************************************#\n",
    "insert_employees = \"\"\"\n",
    "INSERT INTO Employees (EmployeeID, Name, Role, Address, Contact_Number, Email, Annual_Salary) VALUES\n",
    "(01,'Mario Gollini','Manager','724, Parsley Lane, Old Town, Chicago, IL',351258074,'Mario.g@littlelemon.com','$70,000'),\n",
    "(02,'Adrian Gollini','Assistant Manager','334, Dill Square, Lincoln Park, Chicago, IL',351474048,'Adrian.g@littlelemon.com','$65,000'),\n",
    "(03,'Giorgos Dioudis','Head Chef','879 Sage Street, West Loop, Chicago, IL',351970582,'Giorgos.d@littlelemon.com','$50,000'),\n",
    "(04,'Fatma Kaya','Assistant Chef','132  Bay Lane, Chicago, IL',351963569,'Fatma.k@littlelemon.com','$45,000'),\n",
    "(05,'Elena Salvai','Head Waiter','989 Thyme Square, EdgeWater, Chicago, IL',351074198,'Elena.s@littlelemon.com','$40,000'),\n",
    "(06,'John Millar','Receptionist','245 Dill Square, Lincoln Park, Chicago, IL',351584508,'John.m@littlelemon.com','$35,000');\"\"\"\n",
    "\n",
    "print('Creating employees table...')\n",
    "# Create Employees table\n",
    "cursor.execute(create_employees_table)\n",
    "\n",
    "print('Inserting Data into employees table...')\n",
    "# Populate Employees table\n",
    "cursor.execute(insert_employees)\n",
    "print('Commiting changes into the database...')\n",
    "connection.commit()\n",
    "\n",
    "\n"
   ]
  },
  {
   "cell_type": "code",
   "execution_count": 12,
   "id": "39f90aab",
   "metadata": {},
   "outputs": [
    {
     "name": "stdout",
     "output_type": "stream",
     "text": [
      "The connection pool is created with a name:  ll_db\n",
      "The pool size is: 2\n"
     ]
    }
   ],
   "source": [
    "from mysql.connector.pooling import MySQLConnectionPool\n",
    "from mysql.connector import Error\n",
    "dbconfig={\n",
    "    \"database\":\"little_lemon_db\", \n",
    "    \"user\":\"root\", \n",
    "    \"password\":\"bk5571290\"\n",
    "}\n",
    "try:\n",
    "    pool_a = MySQLConnectionPool(pool_name = 'll_db',\n",
    "                              pool_size = 2,\n",
    "                              **dbconfig)\n",
    "    print(\"The connection pool is created with a name: \", pool_a.pool_name)\n",
    "    print(\"The pool size is:\", pool_a.pool_size)\n",
    "    \n",
    "except Error as er:\n",
    "    print('Error code:', er.errno)\n",
    "    print('Error message:', er.msg)\n"
   ]
  },
  {
   "cell_type": "code",
   "execution_count": 13,
   "id": "9a72a1df",
   "metadata": {},
   "outputs": [],
   "source": [
    "connection1 = pool_a.get_connection()\n",
    "cursor = connection1.cursor()"
   ]
  },
  {
   "cell_type": "markdown",
   "id": "4f290635",
   "metadata": {},
   "source": [
    "### TASK 2: Implement a stored procedure called PeakHours"
   ]
  },
  {
   "cell_type": "code",
   "execution_count": 19,
   "id": "007774cf",
   "metadata": {},
   "outputs": [],
   "source": [
    "Stored_procedure= '''\n",
    "CREATE PROCEDURE PeakHours()\n",
    "\n",
    "BEGIN\n",
    "\n",
    "SELECT HOUR(BookingSlot) AS BookingHour,\n",
    "COUNT(HOUR(BookingSlot)) AS Total\n",
    "FROM Bookings\n",
    "GROUP BY BookingHour\n",
    "ORDER BY Total;\n",
    "\n",
    "END\n",
    "\n",
    "'''\n",
    "\n"
   ]
  },
  {
   "cell_type": "code",
   "execution_count": 26,
   "id": "6caed417",
   "metadata": {},
   "outputs": [],
   "source": [
    "cursor.execute('Drop procedure PeakHours')"
   ]
  },
  {
   "cell_type": "code",
   "execution_count": 27,
   "id": "e0b3e1c6",
   "metadata": {},
   "outputs": [
    {
     "data": {
      "text/plain": [
       "()"
      ]
     },
     "execution_count": 27,
     "metadata": {},
     "output_type": "execute_result"
    }
   ],
   "source": [
    " # Execute the query\n",
    "cursor.execute(Stored_procedure)\n",
    "\n",
    "# Call the stored procedure with its name\n",
    "cursor.callproc('PeakHours')"
   ]
  },
  {
   "cell_type": "code",
   "execution_count": 28,
   "id": "41826829",
   "metadata": {},
   "outputs": [
    {
     "name": "stdout",
     "output_type": "stream",
     "text": [
      "['BookingHour', 'Total']\n",
      "\n",
      "(15, 1)\n",
      "(17, 1)\n",
      "(18, 1)\n",
      "(20, 1)\n",
      "(19, 2)\n"
     ]
    }
   ],
   "source": [
    "# Retrieve recordsin dataset\n",
    "results = next(cursor.stored_results())\n",
    "dataset = results.fetchall()\n",
    "\n",
    "# Retrieve column names using list comprehension in a for loop\n",
    "for column_id in cursor.stored_results():\n",
    "    columns = [ column[0] for column in column_id.description]\n",
    "    \n",
    "#print column names\n",
    "print(columns)\n",
    "\n",
    "print()\n",
    "#print data\n",
    "for data in dataset:\n",
    "    print(data)"
   ]
  },
  {
   "cell_type": "markdown",
   "id": "c362e6fe",
   "metadata": {},
   "source": [
    "### TASK 3: Implement a stored procedure GuestStatus"
   ]
  },
  {
   "cell_type": "code",
   "execution_count": 32,
   "id": "f736ce48",
   "metadata": {},
   "outputs": [],
   "source": [
    "stored_procedure_2 = '''\n",
    "CREATE PROCEDURE GuestStatus()\n",
    "\n",
    "BEGIN\n",
    "\n",
    "SELECT\n",
    "Bookings.BookingID AS OrderNumber, \n",
    "CONCAT(bookings.GuestFirstname, \n",
    "' ', \n",
    "bookings.GuestLastname) AS CustomerName,\n",
    "Role AS Employee,\n",
    "CASE\n",
    "    WHEN Role in ('Manager', 'Assistant Manager') THEN 'Ready to pay'\n",
    "    WHEN Role ='Head Chef' THEN 'Ready to serve'\n",
    "    WHEN Role = 'Assistant Chef' THEN 'Preparing Order'\n",
    "    WHEN Role = 'Head Waiter' THEN 'Order served'\n",
    "    ELSE 'Pending'\n",
    "END AS Status\n",
    "\n",
    "From Bookings\n",
    "LEFT JOIN \n",
    "Employees ON Bookings.EmployeeID=Employees.EmployeeID;\n",
    "\n",
    "END\n",
    "'''\n"
   ]
  },
  {
   "cell_type": "code",
   "execution_count": 35,
   "id": "d91c7d8d",
   "metadata": {},
   "outputs": [],
   "source": [
    "cursor.execute('Drop Procedure GuestStatus')"
   ]
  },
  {
   "cell_type": "code",
   "execution_count": 36,
   "id": "2484208a",
   "metadata": {},
   "outputs": [],
   "source": [
    "cursor.execute(stored_procedure_2)"
   ]
  },
  {
   "cell_type": "code",
   "execution_count": 37,
   "id": "0511af81",
   "metadata": {},
   "outputs": [
    {
     "name": "stdout",
     "output_type": "stream",
     "text": [
      "['OrderNumber', 'CustomerName', 'Employee', 'Status']\n",
      "(1, 'Anna Iversen', 'Manager', 'Ready to pay')\n",
      "(2, 'Joakim Iversen', 'Manager', 'Ready to pay')\n",
      "(3, 'Vanessa McCarthy', 'Head Chef', 'Ready to serve')\n",
      "(4, 'Marcos Romero', 'Assistant Chef', 'Preparing Order')\n",
      "(5, 'Hiroki Yamane', 'Assistant Manager', 'Ready to pay')\n",
      "(6, 'Diana Pinto', 'Head Waiter', 'Order served')\n"
     ]
    }
   ],
   "source": [
    "# Call the stored procedure with its name\n",
    "cursor.callproc('GuestStatus')\n",
    "# Retrieve recordsin dataset\n",
    "results = next(cursor.stored_results())\n",
    "dataset = results.fetchall()\n",
    "\n",
    "# Retrieve column names using list comprehension in a for loop\n",
    "for column_id in cursor.stored_results():\n",
    "    columns = [ column[0] for column in column_id.description]\n",
    "    \n",
    "#print column names\n",
    "print(columns)\n",
    "\n",
    "\n",
    "#print data\n",
    "for data in dataset:\n",
    "    print(data)"
   ]
  },
  {
   "cell_type": "code",
   "execution_count": 38,
   "id": "399d939c",
   "metadata": {},
   "outputs": [
    {
     "name": "stdout",
     "output_type": "stream",
     "text": [
      "\n",
      "Returning the connection back to the pool.\n",
      "The connection is placed back into the pool for the next user to connect.\n"
     ]
    }
   ],
   "source": [
    "# Put the connection back to the pool\n",
    "print('\\nReturning the connection back to the pool.')\n",
    "connection1.close()\n",
    "print('The connection is placed back into the pool for the next user to connect.')"
   ]
  },
  {
   "cell_type": "markdown",
   "id": "bbb459e3",
   "metadata": {},
   "source": [
    "# Little Lemon Analysis and Sales Report "
   ]
  },
  {
   "cell_type": "code",
   "execution_count": 41,
   "id": "f4352d66",
   "metadata": {},
   "outputs": [
    {
     "name": "stdout",
     "output_type": "stream",
     "text": [
      "The connection pool is created with the name:  pool_b\n",
      "The pool size is: 2\n"
     ]
    }
   ],
   "source": [
    "from mysql.connector.pooling import MySQLConnectionPool\n",
    "from mysql.connector import Error\n",
    "\n",
    "dbconfig = {\n",
    "    \"database\":\"little_lemon_db\",\n",
    "    \"user\" : \"root\",\n",
    "    \"password\" : \"bk5571290\"\n",
    "}\n",
    "\n",
    "try:\n",
    "    pool_b = MySQLConnectionPool(pool_name = \"pool_b\",pool_size = 2,**dbconfig)\n",
    "    print(\"The connection pool is created with the name: \",pool_b.pool_name)\n",
    "    print(\"The pool size is:\",pool_b.pool_size)\n",
    "\n",
    "except Error as er:\n",
    "    print(\"Error code:\", er.errno)\n",
    "    print(\"Error message:\", er.msg)"
   ]
  },
  {
   "cell_type": "code",
   "execution_count": 42,
   "id": "e7118144",
   "metadata": {},
   "outputs": [
    {
     "name": "stdout",
     "output_type": "stream",
     "text": [
      "Inserting Guest 1 Orders into booking table...\n",
      "Commiting the changes into the table...\n"
     ]
    }
   ],
   "source": [
    "# Guest 1\n",
    "connection1 = pool_b.get_connection()\n",
    "cursor1 = connection1.cursor()\n",
    "print('Inserting Guest 1 Orders into booking table...')\n",
    "guest1 = \"\"\"\n",
    "INSERT INTO Bookings \n",
    "    (TableNo, GuestFirstName, GuestLastName, BookingSlot, EmployeeID)\n",
    "VALUES\n",
    "    (8,'Anees','Java','18:00:00',6);\"\"\"\n",
    "\n",
    "cursor1.execute(guest1)\n",
    "print('Commiting the changes into the table...')\n",
    "connection1.commit()"
   ]
  },
  {
   "cell_type": "code",
   "execution_count": 43,
   "id": "cbec24f0",
   "metadata": {},
   "outputs": [
    {
     "name": "stdout",
     "output_type": "stream",
     "text": [
      "Inserting Guest 1 Orders into booking table...\n",
      "Commiting the changes into the table...\n"
     ]
    }
   ],
   "source": [
    "#guest 2\n",
    "\n",
    "connection2 = pool_b.get_connection()\n",
    "cursor2 = connection2.cursor()\n",
    "print('Inserting Guest 2 Orders into booking table...')\n",
    "guest2 = \"\"\"\n",
    "INSERT INTO Bookings \n",
    "    (TableNo, GuestFirstName, GuestLastName, BookingSlot, EmployeeID)\n",
    "VALUES\n",
    "    (5, 'Bald','Vin','19:00:00',6);\"\"\"\n",
    "\n",
    "cursor2.execute(guest2)\n",
    "print('Commiting the changes into the table...')\n",
    "connection2.commit()"
   ]
  },
  {
   "cell_type": "code",
   "execution_count": 47,
   "id": "39a5319d",
   "metadata": {},
   "outputs": [
    {
     "name": "stdout",
     "output_type": "stream",
     "text": [
      "Adding new connection in the pool.\n",
      "A new connection is added in the pool.\n",
      "\n",
      "The third connection is added to the pool.\n",
      "You can now insert your booking data\n"
     ]
    }
   ],
   "source": [
    "try:\n",
    "    connection3 = pool_b.get_connection()\n",
    "    print(\"The guest is connected\")\n",
    "except:\n",
    "    print(\"Adding new connection in the pool.\")\n",
    "    connection=connector.connect(user=\"root\",password=\"bk5571290\")\n",
    "    \n",
    "    pool_b.add_connection(cnx=connection)\n",
    "    print(\"A new connection is added in the pool.\\n\")\n",
    "    \n",
    "    connection3 = pool_b.get_connection()\n",
    "    print(\"The third connection is added to the pool.\")\n",
    "    print(\"You can now insert your booking data\")"
   ]
  },
  {
   "cell_type": "code",
   "execution_count": 48,
   "id": "23a58944",
   "metadata": {},
   "outputs": [
    {
     "name": "stdout",
     "output_type": "stream",
     "text": [
      "Inserting Guest 3 Orders into booking table...\n",
      "Commiting the changes into the table...\n"
     ]
    }
   ],
   "source": [
    "#Guest 3\n",
    "cursor3 =connection3.cursor()\n",
    "print('Inserting Guest 3 Orders into booking table...')\n",
    "Guest3=\"\"\"INSERT INTO Bookings \n",
    "    (TableNo, GuestFirstName, GuestLastName, BookingSlot, EmployeeID)\n",
    "VALUES\n",
    "    (12, 'Jay','Kon','19:30:00',6);\"\"\"\n",
    "cursor3.execute(Guest3)\n",
    "print('Commiting the changes into the table...')\n",
    "connection3.commit()"
   ]
  },
  {
   "cell_type": "code",
   "execution_count": 49,
   "id": "fe23c199",
   "metadata": {},
   "outputs": [
    {
     "name": "stdout",
     "output_type": "stream",
     "text": [
      "Connection is returned to the pool\n",
      "Connection is returned to the pool\n",
      "\n",
      "Connection can't be returned to the pool\n",
      "Error message:  Failed adding connection; queue is full\n"
     ]
    }
   ],
   "source": [
    "# Close all connection\n",
    "\n",
    "for connection in [connection1,connection2, connection3]:\n",
    "    try:\n",
    "        connection.close()\n",
    "        print('Connection is returned to the pool')\n",
    "    except Error as er:\n",
    "        print(\"\\nConnection can't be returned to the pool\")\n",
    "        print('Error message: ', er.msg)"
   ]
  },
  {
   "cell_type": "code",
   "execution_count": 51,
   "id": "56ed20b5",
   "metadata": {},
   "outputs": [
    {
     "name": "stdout",
     "output_type": "stream",
     "text": [
      "The cursor object \"cursor\" is created.\n"
     ]
    }
   ],
   "source": [
    "# Get a connection from pool_a and create a cursor object\n",
    "connection = pool_b.get_connection()\n",
    "cursor=connection.cursor()\n",
    "print(\"\"\"The cursor object \"cursor\" is created.\"\"\")"
   ]
  },
  {
   "cell_type": "code",
   "execution_count": 52,
   "id": "0b8d7e28",
   "metadata": {},
   "outputs": [
    {
     "name": "stdout",
     "output_type": "stream",
     "text": [
      "('Name', 'EmployeeID')\n",
      "('Mario Gollini', 1)\n"
     ]
    }
   ],
   "source": [
    "#The name and EmployeeID of the little lemon manager\n",
    "little_lemon_manager='''\n",
    "SELECT Name, EmployeeID \n",
    "FROM Employees \n",
    "WHERE Role = 'Manager'\n",
    "'''\n",
    "\n",
    "cursor.execute(little_lemon_manager)\n",
    "#Grabbing columns names\n",
    "columns =cursor.column_names\n",
    "results = cursor.fetchall()\n",
    "\n",
    "#printing out the columns\n",
    "print(columns)\n",
    "\n",
    "#Printing out the dataset\n",
    "for result in results:\n",
    "    print(result)"
   ]
  },
  {
   "cell_type": "code",
   "execution_count": 53,
   "id": "6e759ee2",
   "metadata": {},
   "outputs": [
    {
     "name": "stdout",
     "output_type": "stream",
     "text": [
      "('Name', 'Role')\n",
      "('Mario Gollini', 'Manager')\n"
     ]
    }
   ],
   "source": [
    "# The name of employee who receives the heighest salary\n",
    "\n",
    "highest_salary = '''\n",
    "SELECT Name, Role\n",
    "FROM Employees\n",
    "WHERE Annual_Salary = (SELECT MAX(Annual_Salary) From Employees)\n",
    "'''\n",
    "\n",
    "cursor.execute(highest_salary)\n",
    "#Grabbing columns names\n",
    "columns =cursor.column_names\n",
    "results = cursor.fetchall()\n",
    "\n",
    "#printing out the columns\n",
    "print(columns)\n",
    "\n",
    "#Printing out the dataset\n",
    "for result in results:\n",
    "    print(result)\n"
   ]
  },
  {
   "cell_type": "code",
   "execution_count": 54,
   "id": "014a9faa",
   "metadata": {},
   "outputs": [
    {
     "name": "stdout",
     "output_type": "stream",
     "text": [
      "('TotalGuest',)\n",
      "(7,)\n"
     ]
    }
   ],
   "source": [
    "# The number of guest booked between 18:00 and 20:00\n",
    "\n",
    "booked= '''\n",
    "SELECT COUNT(*) as TotalGuest\n",
    "FROM bookings\n",
    "WHERE BookingSlot BETWEEN '18:00:00' AND '20:00:00';\n",
    "\n",
    "'''\n",
    "\n",
    "cursor.execute(booked)\n",
    "#Grabbing columns names\n",
    "columns =cursor.column_names\n",
    "results = cursor.fetchall()\n",
    "#printing out the columns\n",
    "print(columns)\n",
    "\n",
    "#Printing out the dataset\n",
    "for result in results:\n",
    "    print(result)\n"
   ]
  },
  {
   "cell_type": "code",
   "execution_count": 55,
   "id": "eed5c695",
   "metadata": {},
   "outputs": [
    {
     "name": "stdout",
     "output_type": "stream",
     "text": [
      "('FullName', 'BookingID', 'BookingSlot')\n",
      "\n",
      "('Vanessa McCarthy', 3, 15)\n",
      "('Marcos Romero', 4, 17)\n",
      "('Hiroki Yamane', 5, 18)\n",
      "('Anees Java', 7, 18)\n",
      "('Anna Iversen', 1, 19)\n",
      "('Joakim Iversen', 2, 19)\n",
      "('Bald Vin', 8, 19)\n",
      "('Jay Kon', 9, 19)\n",
      "('Diana Pinto', 6, 20)\n"
     ]
    }
   ],
   "source": [
    "# The Full name and BookingID of all guests waiting to be seated\n",
    "\n",
    "waiting_list= '''\n",
    "SELECT CONCAT(GuestFirstName, ' ', GuestLastName) as FullName,\n",
    "BookingID, Hour(BookingSlot) AS BookingSlot\n",
    "FROM Bookings\n",
    "order by BookingSlot;\n",
    "'''\n",
    "\n",
    "#Executing the query\n",
    "cursor.execute(waiting_list)\n",
    "#Grabbing columns names\n",
    "columns =cursor.column_names\n",
    "results = cursor.fetchall()\n",
    "\n",
    "#printing out the columns\n",
    "print(columns)\n",
    "print()\n",
    "#Printing out the dataset\n",
    "for result in results:\n",
    "    print(result)"
   ]
  },
  {
   "cell_type": "code",
   "execution_count": 56,
   "id": "296fd75b",
   "metadata": {},
   "outputs": [],
   "source": [
    "#creaating BasicSalesReport procedure\n",
    "stored_procedure = '''\n",
    "CREATE PROCEDURE BasicSalesReport()\n",
    "\n",
    "BEGIN\n",
    "\n",
    "SELECT SUM(BillAmount*Quantity) AS TotalSale, \n",
    "AVG(BillAmount*Quantity) AS AverageSale, \n",
    "MAX(BillAmount) AS MaximumBillPaid, \n",
    "MIN(BillAMount) AS MinimumBillPaid \n",
    "FROM Orders;\n",
    "\n",
    "END\n",
    "'''"
   ]
  },
  {
   "cell_type": "code",
   "execution_count": 57,
   "id": "77c2a602",
   "metadata": {},
   "outputs": [],
   "source": [
    "# Executing the stored procedure\n",
    "cursor.execute(stored_procedure)"
   ]
  },
  {
   "cell_type": "code",
   "execution_count": 58,
   "id": "07c864fa",
   "metadata": {},
   "outputs": [
    {
     "name": "stdout",
     "output_type": "stream",
     "text": [
      "['TotalSale', 'AverageSale', 'MaximumBillPaid', 'MinimumBillPaid']\n",
      "\n",
      "(Decimal('329'), Decimal('65.8000'), 86, 37)\n"
     ]
    }
   ],
   "source": [
    "# Call the stored procedure with its name\n",
    "cursor.callproc('BasicSalesReport')\n",
    "\n",
    "# Retrieve recordsin dataset\n",
    "results = next(cursor.stored_results())\n",
    "dataset = results.fetchall()\n",
    "\n",
    "# Retrieve column names using list comprehension in a for loop\n",
    "for column_id in cursor.stored_results():\n",
    "    columns = [ column[0] for column in column_id.description]\n",
    "    \n",
    "#print column names\n",
    "print(columns)\n",
    "\n",
    "print()\n",
    "#print data\n",
    "for data in dataset:\n",
    "    print(data)"
   ]
  },
  {
   "cell_type": "markdown",
   "id": "551d68a0",
   "metadata": {},
   "source": [
    "### Task 5"
   ]
  },
  {
   "cell_type": "code",
   "execution_count": 59,
   "id": "4f7681c9",
   "metadata": {},
   "outputs": [
    {
     "name": "stdout",
     "output_type": "stream",
     "text": [
      "Getting a connection from the pool.\n",
      "Creating a cursor object.\n",
      "You're now connected to the pool\n"
     ]
    }
   ],
   "source": [
    "# Get the connection from the connection pool 'pool_a'\n",
    "print('Getting a connection from the pool.')\n",
    "connection2 = pool_b.get_connection()\n",
    "\n",
    "#Create a cusor object to communication with the entire MySQL database\n",
    "print ('Creating a cursor object.')\n",
    "cursor = connection2.cursor(buffered=True)\n",
    "print(\"You're now connected to the pool\")"
   ]
  },
  {
   "cell_type": "code",
   "execution_count": 60,
   "id": "0381d4e3",
   "metadata": {},
   "outputs": [],
   "source": [
    "upcoming_bookings='''\n",
    "SELECT\n",
    "CONCAT(bookings.GuestFirstname, \n",
    "' ', \n",
    "bookings.GuestLastname) AS CustomerName,\n",
    "BookingSlot,\n",
    "e.Name \n",
    "FROM Bookings\n",
    "LEFT JOIN Employees as e ON Bookings.EmployeeID = e.EmployeeID\n",
    "Order by CustomerName ASC\n",
    "LIMIT 3;\n",
    "'''"
   ]
  },
  {
   "cell_type": "code",
   "execution_count": 61,
   "id": "9f7a913f",
   "metadata": {},
   "outputs": [],
   "source": [
    "#Executing the upcoming bookings query\n",
    "cursor.execute(upcoming_bookings)"
   ]
  },
  {
   "cell_type": "code",
   "execution_count": 62,
   "id": "0ee2b361",
   "metadata": {},
   "outputs": [
    {
     "name": "stdout",
     "output_type": "stream",
     "text": [
      "BookingSlot 18:00:00\n",
      "\t Guest_name:  Anees Java\n",
      "\t Assigned to:  John Millar\n",
      "\n",
      "BookingSlot 19:00:00\n",
      "\t Guest_name:  Anna Iversen\n",
      "\t Assigned to:  Mario Gollini\n",
      "\n",
      "BookingSlot 19:00:00\n",
      "\t Guest_name:  Bald Vin\n",
      "\t Assigned to:  John Millar\n",
      "\n"
     ]
    }
   ],
   "source": [
    "# Fetching results from the database\n",
    "results= cursor.fetchall()\n",
    "\n",
    "# printing out the dataset\n",
    "for result in results:\n",
    "    print(f'BookingSlot {result[1]}')\n",
    "    print('\\t Guest_name: ', result[0])\n",
    "    print('\\t Assigned to: ', result[2])\n",
    "    print()"
   ]
  },
  {
   "cell_type": "code",
   "execution_count": 66,
   "id": "3a5981d3",
   "metadata": {},
   "outputs": [
    {
     "name": "stdout",
     "output_type": "stream",
     "text": [
      "\n",
      "Connection can't be returned to the pool\n",
      "Error message:  Failed adding connection; queue is full\n",
      "\n",
      "Connection can't be returned to the pool\n",
      "Error message:  Failed adding connection; queue is full\n"
     ]
    }
   ],
   "source": [
    "# Close all connection\n",
    "for connection in [connection1,connection2]:\n",
    "    try:\n",
    "        connection.close()\n",
    "        print('Connection is returned to the pool')\n",
    "    except Error as er:\n",
    "        print(\"\\nConnection can't be returned to the pool\")\n",
    "        print('Error message: ', er.msg)"
   ]
  },
  {
   "cell_type": "code",
   "execution_count": null,
   "id": "b384a69c",
   "metadata": {},
   "outputs": [],
   "source": []
  }
 ],
 "metadata": {
  "kernelspec": {
   "display_name": "Python 3 (ipykernel)",
   "language": "python",
   "name": "python3"
  },
  "language_info": {
   "codemirror_mode": {
    "name": "ipython",
    "version": 3
   },
   "file_extension": ".py",
   "mimetype": "text/x-python",
   "name": "python",
   "nbconvert_exporter": "python",
   "pygments_lexer": "ipython3",
   "version": "3.10.9"
  }
 },
 "nbformat": 4,
 "nbformat_minor": 5
}
